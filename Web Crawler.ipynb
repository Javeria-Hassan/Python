{
 "cells": [
  {
   "cell_type": "code",
   "execution_count": 5,
   "metadata": {},
   "outputs": [],
   "source": [
    "import requests\n",
    "from bs4 import BeautifulSoup as bs\n",
    "import pandas as pd\n",
    "import numpy as np\n",
    "\n",
    "from time import sleep\n",
    "from random import randint\n"
   ]
  },
  {
   "cell_type": "code",
   "execution_count": 2,
   "metadata": {},
   "outputs": [
    {
     "name": "stdout",
     "output_type": "stream",
     "text": [
      "                                              Reviews\n",
      "0   Although Zoom provides a quality product, and ...\n",
      "1   For now, due to its tools, it has been the bes...\n",
      "2   Zoom is a great tool for holding important mee...\n",
      "3   Zoom is well suited if you want to work from h...\n",
      "4   Zoom is a platform that is very useful when th...\n",
      "5   I think Zoom provides a lot of flexibility and...\n",
      "6   Very well suited when a single person is speak...\n",
      "7   I have had the opportunity to use Zoom both at...\n",
      "8   Easy-to-use platform for online meetings and d...\n",
      "9   This is perfect for teaching my high schoolers...\n",
      "10  Zoom is well suited for companies and organiza...\n",
      "11  Zoom is perfect for a one-on-one discussion wi...\n",
      "12  Zoom is great for scheduling meetings through ...\n",
      "13  Zoom makes it easy to generate meetings and se...\n",
      "14  Very good for sales, marketing, and onboarding...\n",
      "15  We used Zoom for conferencing with our teams w...\n",
      "16  Zoom is very important for sales.  Sales are p...\n",
      "17  Zoom is well suited for organizations that var...\n",
      "18  Zoom is well suited for group meetings and gro...\n",
      "19  I would 100% recommend Zoom if they need a con...\n",
      "20  Zoom is the most suitable when yours is a SaaS...\n",
      "21  Whenever we have to carry out follow-up meetin...\n",
      "22  Remote staff and vendors, domestic calls, pres...\n"
     ]
    }
   ],
   "source": [
    "from selenium import webdriver\n",
    "from bs4 import BeautifulSoup\n",
    "import pandas as pd\n",
    "\n",
    "driver = webdriver.Chrome(executable_path='C:\\Web Driver\\chromedriver')\n",
    "driver.get(\"https://www.trustradius.com/products/zoom/reviews?o=recent\")\n",
    "soup = BeautifulSoup(driver.page_source, 'lxml')\n",
    "\n",
    "\n",
    "review = soup.find_all(\"div\",{\"class\":\"ugc followup\"})\n",
    "review_content = []\n",
    "for i in range(0,len(review)):\n",
    "    review_content.append(review[i].get_text())\n",
    "\n",
    "\n",
    "df = pd.DataFrame({'Reviews': review_content})\n",
    "df.to_csv('trustreview.csv', index=False, encoding='utf-8')\n",
    "print(df)"
   ]
  },
  {
   "cell_type": "code",
   "execution_count": 2,
   "metadata": {},
   "outputs": [],
   "source": [
    "import requests\n",
    "from requests import get\n",
    "from bs4 import BeautifulSoup\n",
    "import pandas as pd\n",
    "import numpy as np\n",
    "from time import sleep\n",
    "from random import randint\n",
    "\n",
    "headers = {\"Accept-Language\": \"en-US, en;q=0.5\"}\n",
    "review_content = []\n",
    "pages = np.arange(1, 601, 25)"
   ]
  },
  {
   "cell_type": "code",
   "execution_count": 3,
   "metadata": {},
   "outputs": [
    {
     "name": "stdout",
     "output_type": "stream",
     "text": [
      "                                               Reviews\n",
      "0    For our organization, Zoom is solid for all th...\n",
      "1    It's great in the classroom, and connects the ...\n",
      "2      Zoom is good for online education and webinars.\n",
      "3    Very appropriate for confidential client sessi...\n",
      "4    Zoom is well suited for most screen share and ...\n",
      "..                                                 ...\n",
      "595  Zoom is great for small/remote offices that ne...\n",
      "596  Zoom is well suited basically anywhere, howeve...\n",
      "597  The all-in-one DTEN type of unit is awesome! I...\n",
      "598  Well suited for meetings and classes. Less app...\n",
      "599  Well suited for joining users from different c...\n",
      "\n",
      "[600 rows x 1 columns]\n"
     ]
    }
   ],
   "source": [
    "for page in pages:\n",
    "    #page = requests.get(\"https://www.trustradius.com/products/zoom/reviews?\"+ str(page) +\"o=positive\", headers=headers)\n",
    "    page = requests.get(\"https://www.trustradius.com/products/zoom/reviews?o=positive\", headers=headers)\n",
    "    soup = BeautifulSoup(page.text, 'html.parser')\n",
    "    review = soup.find_all(\"div\",{\"class\":\"ugc followup\"})\n",
    "    sleep(randint(2,10))\n",
    "    for i in range(0,len(review)):\n",
    "        review_content.append(review[i].get_text())\n",
    "        \n",
    "df = pd.DataFrame({'Reviews': review_content})\n",
    "df.to_csv('trustreview.csv', index=False, encoding='utf-8')\n",
    "print(df)"
   ]
  },
  {
   "cell_type": "code",
   "execution_count": null,
   "metadata": {},
   "outputs": [],
   "source": []
  }
 ],
 "metadata": {
  "kernelspec": {
   "display_name": "Python 3",
   "language": "python",
   "name": "python3"
  },
  "language_info": {
   "codemirror_mode": {
    "name": "ipython",
    "version": 3
   },
   "file_extension": ".py",
   "mimetype": "text/x-python",
   "name": "python",
   "nbconvert_exporter": "python",
   "pygments_lexer": "ipython3",
   "version": "3.8.3"
  }
 },
 "nbformat": 4,
 "nbformat_minor": 4
}
