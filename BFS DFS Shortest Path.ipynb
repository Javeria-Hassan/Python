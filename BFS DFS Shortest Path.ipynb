{
 "cells": [
  {
   "cell_type": "code",
   "execution_count": 1,
   "metadata": {},
   "outputs": [
    {
     "name": "stdout",
     "output_type": "stream",
     "text": [
      "Audrey Bill Gayle Jeff Emily Cathy Harry Dave Frank "
     ]
    }
   ],
   "source": [
    "# BFS\n",
    "tree={\n",
    "    'Audrey':['Bill','Gayle'],\n",
    "    'Bill':['Jeff','Gayle','Emily'],\n",
    "    'Jeff':['Harry','Emily'],\n",
    "    'Hana':['Audrey','Harry','Dave'],\n",
    "    'Harry':['Jeff'],\n",
    "    'Gayle':['Cathy'],\n",
    "    'Cathy':['Emily'],\n",
    "    'Dave':['Emily'],\n",
    "    'Emily':['Dave','Frank'],\n",
    "    'Frank':[],\n",
    "}\n",
    "closed=[]\n",
    "opened=[]\n",
    "def bfs(closed,tree,node):\n",
    "    opened.append(node)\n",
    "    closed.append(node)\n",
    "    while opened:\n",
    "        s=opened.pop(0)\n",
    "        print(s, end=\" \")\n",
    "        for child in tree[s]:\n",
    "            if child not in closed:\n",
    "                closed.append(child)\n",
    "                opened.append(child)\n",
    "                \n",
    "bfs(closed,tree,'Audrey')"
   ]
  },
  {
   "cell_type": "code",
   "execution_count": 2,
   "metadata": {},
   "outputs": [
    {
     "data": {
      "text/plain": [
       "['Audrey', 'Bill', 'Emily', 'Frank']"
      ]
     },
     "execution_count": 2,
     "metadata": {},
     "output_type": "execute_result"
    }
   ],
   "source": [
    "\n",
    "def Shortest_Path(tree, start,goal):\n",
    "    visit=[]\n",
    "    queue=[[start]]\n",
    "    if start==goal:\n",
    "        return \"Goal Found\"\n",
    "    while queue:\n",
    "        path=queue.pop(0)\n",
    "        node=path[-1]\n",
    "        if node not in visit:\n",
    "            neighbours=tree[node]\n",
    "            for neighbour in neighbours:\n",
    "                new_path=list(path)\n",
    "                new_path.append(neighbour)\n",
    "                queue.append(new_path)\n",
    "                if neighbour==goal:\n",
    "                    return new_path\n",
    "            visit.append(node)\n",
    "    return \"not  found\"\n",
    "Shortest_Path(tree,'Audrey','Frank')"
   ]
  },
  {
   "cell_type": "code",
   "execution_count": 3,
   "metadata": {},
   "outputs": [
    {
     "name": "stdout",
     "output_type": "stream",
     "text": [
      "1\n",
      "2\n",
      "3\n",
      "4\n",
      "5\n",
      "6\n",
      "7\n",
      "8\n",
      "9\n",
      "10\n",
      "11\n",
      "12\n"
     ]
    }
   ],
   "source": [
    "#DFS\n",
    "tree={\n",
    "    '1':['2','7','8'],\n",
    "    '2':['3','6'],\n",
    "    '7':[],\n",
    "    '8':['9','12'],\n",
    "    '3':['4','5'],\n",
    "    '6':[],\n",
    "    '9':['10','11'],\n",
    "    '12':[],\n",
    "    '10':[],\n",
    "    '11':[],\n",
    "    '4':[],\n",
    "    '5':[]\n",
    "}\n",
    "closed=set()\n",
    "def dfs(closed,tree,node):\n",
    "    if node not in closed:\n",
    "        print(node)\n",
    "        closed.add(node)\n",
    "        for child in tree[node]:\n",
    "            dfs(closed,tree,child)\n",
    "dfs(closed,tree,'1')"
   ]
  },
  {
   "cell_type": "code",
   "execution_count": 4,
   "metadata": {},
   "outputs": [],
   "source": [
    "def ShortestDistance(i, j):  \n",
    "    v1, v2 = [], []   \n",
    "    p1, p2 = i, j  \n",
    "    while i != 0:  \n",
    "        v1.append(i % 2)  \n",
    "        i = i // 2\n",
    "      \n",
    "    while j != 0:  \n",
    "        v2.append(j % 2)  \n",
    "        j = j // 2\n",
    " \n",
    "    v1 = v1[::-1]  \n",
    "    v2 = v2[::-1]  \n",
    "  \n",
    "    # finding the k that is lca (i, j)  \n",
    "    m, n, k = len(v1), len(v2), 0\n",
    "    if m < n: \n",
    "        while k < m and v1[k] == v2[k]:  \n",
    "            k += 1\n",
    "      \n",
    "    else: \n",
    "        while k < n and v1[k] == v2[k]:  \n",
    "            k += 1\n",
    "      \n",
    "    ShortestPath(p1, p2, k - 1, m, n)  \n",
    "    return m + n - 2 * k "
   ]
  }
 ],
 "metadata": {
  "kernelspec": {
   "display_name": "Python 3",
   "language": "python",
   "name": "python3"
  },
  "language_info": {
   "codemirror_mode": {
    "name": "ipython",
    "version": 3
   },
   "file_extension": ".py",
   "mimetype": "text/x-python",
   "name": "python",
   "nbconvert_exporter": "python",
   "pygments_lexer": "ipython3",
   "version": "3.8.3"
  }
 },
 "nbformat": 4,
 "nbformat_minor": 4
}
