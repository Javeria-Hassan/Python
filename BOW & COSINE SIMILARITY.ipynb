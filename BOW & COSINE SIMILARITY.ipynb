{
 "cells": [
  {
   "cell_type": "markdown",
   "metadata": {},
   "source": [
    "# Bag of Words"
   ]
  },
  {
   "cell_type": "code",
   "execution_count": 2,
   "metadata": {},
   "outputs": [
    {
     "name": "stdout",
     "output_type": "stream",
     "text": [
      "Word List for Document \n",
      "['am', 'hassan', 'hy', 'i', 'javeria'] \n",
      "\n",
      "Hy! I am Javeria Hassan . \n",
      "[0. 0. 1. 0. 0.]\n",
      "\n",
      "Hy! I am Javeria Hassan . \n",
      "[0. 0. 1. 1. 0.]\n",
      "\n",
      "Hy! I am Javeria Hassan . \n",
      "[1. 0. 1. 1. 0.]\n",
      "\n",
      "Hy! I am Javeria Hassan . \n",
      "[1. 0. 1. 1. 1.]\n",
      "\n",
      "Hy! I am Javeria Hassan . \n",
      "[1. 1. 1. 1. 1.]\n",
      "\n",
      "I am doing BSCS . \n",
      "[0. 0. 0. 1. 0.]\n",
      "\n",
      "I am doing BSCS . \n",
      "[1. 0. 0. 1. 0.]\n",
      "\n"
     ]
    }
   ],
   "source": [
    "import numpy\n",
    "import re\n",
    "from nltk.corpus import stopwords\n",
    "set(stopwords.words('english'))\n",
    "def word_extract(sentence):\n",
    "    ignore = ['a', \"the\", \"is\"]\n",
    "    words = re.sub(\"[^\\w]\", \" \",  sentence).split()\n",
    "    cleaned_text = [w.lower() for w in words if w not in ignore]\n",
    "    return cleaned_text\n",
    "\n",
    "def tokenize(sentences): \n",
    "    words = [] \n",
    "    for sentence in sentences:\n",
    "        w = word_extract(sentence)    \n",
    "        words.extend(w)  \n",
    "        words = sorted(list(set(words))) \n",
    "        return words\n",
    "    \n",
    "def BOW(allsentences):\n",
    "    vocab = tokenize(allsentences)\n",
    "    print(\"Word List for Document \\n{0} \\n\".format(vocab));\n",
    "    for sentence in allsentences:\n",
    "        words = word_extract(sentence)\n",
    "        bag_vector = numpy.zeros(len(vocab))\n",
    "        for w in words:\n",
    "            for i,word in enumerate(vocab):\n",
    "                if word == w: \n",
    "                    bag_vector[i] += 1 \n",
    "                    print(\"{0}\\n{1}\\n\".format(sentence,numpy.array(bag_vector)))\n",
    "\n",
    "file = [\"Hy! I am Javeria Hassan . \", \"I am doing BSCS . \", \"In which Field you are ?\",\n",
    "                \"The most interesting subjects in BSCS are :\",\n",
    "                \"Artificial Inteeligence , Machine Learning and Deep Learning .\"]\n",
    "BOW(file)"
   ]
  },
  {
   "cell_type": "markdown",
   "metadata": {},
   "source": [
    "# COSINE SIMILARITY"
   ]
  },
  {
   "cell_type": "code",
   "execution_count": 3,
   "metadata": {},
   "outputs": [
    {
     "name": "stdout",
     "output_type": "stream",
     "text": [
      "0.9304680279236586\n",
      "0.9845308784939586\n"
     ]
    }
   ],
   "source": [
    "import numpy as np\n",
    "\n",
    "def cos_sim(a, b):\n",
    "    dot_product = np.dot(a, b)\n",
    "    norm_a = np.linalg.norm(a)\n",
    "    norm_b = np.linalg.norm(b)\n",
    "    return dot_product / (norm_a * norm_b)\n",
    "\n",
    "\n",
    "sentence_A = np.array([1,2,3,4,5]) \n",
    "sentence_B = np.array([3,4,5,7,4])\n",
    "sentence_C = np.array([1,2,7,8,9])\n",
    "\n",
    "\n",
    "print(cos_sim(sentence_A, sentence_B)) \n",
    "print(cos_sim(sentence_A, sentence_C)) "
   ]
  },
  {
   "cell_type": "code",
   "execution_count": null,
   "metadata": {},
   "outputs": [],
   "source": []
  }
 ],
 "metadata": {
  "kernelspec": {
   "display_name": "Python 3",
   "language": "python",
   "name": "python3"
  },
  "language_info": {
   "codemirror_mode": {
    "name": "ipython",
    "version": 3
   },
   "file_extension": ".py",
   "mimetype": "text/x-python",
   "name": "python",
   "nbconvert_exporter": "python",
   "pygments_lexer": "ipython3",
   "version": "3.8.3"
  }
 },
 "nbformat": 4,
 "nbformat_minor": 4
}
