{
 "cells": [
  {
   "cell_type": "code",
   "execution_count": 1,
   "metadata": {},
   "outputs": [],
   "source": [
    "import pandas as pd\n",
    "from sklearn.linear_model import LogisticRegression\n",
    "from sklearn.model_selection import train_test_split \n",
    "from sklearn.metrics import accuracy_score "
   ]
  },
  {
   "cell_type": "code",
   "execution_count": 2,
   "metadata": {},
   "outputs": [],
   "source": [
    "df=pd.read_csv('data.csv')\n",
    "y = df.infection_prob \n",
    "X = df.drop('infection_prob', axis = 1)"
   ]
  },
  {
   "cell_type": "code",
   "execution_count": 3,
   "metadata": {},
   "outputs": [
    {
     "name": "stdout",
     "output_type": "stream",
     "text": [
      "[1 1 0 1 1 0 0 1 1 0 1 1 1 1 0 0 1 1 0 1 1 1 0 1 0 0 0 1 0 1 1 0 1 0 1 0 1\n",
      " 1 1 0 0 1 1 1 0 1 1 0 1 1 1 1 0 0 1 0 0 0 0 1 1 0 0 0 1 1 1 0 1 0 1 0 1 0\n",
      " 1 1 1 1 1 0 1 0 1 1 1 1 1 1 0 0 1 1 1 0 0 0 0 1 1 1 1 1 1 0 1 1 0 1 1 1 1\n",
      " 1 1 0 1 1 1 0 0 0 0 0 0 1 1 0 1 0 0 0 1 0 1 1 1 1 1 1 0 0 1 0 1 0 1 1 1 1\n",
      " 1 1 1 1 0 1 1 0 1 1 1 1 0 1 0 1 1 0 1 1 0 1 1 0 1 1 0 1 1 0 1 1 1 1 1 1 1\n",
      " 0 1 1 0 0 0 0 0 1 1 1 0 1 1 1 0 0 0 0 0 0 1 1 0 0 0 0 1 1 0 1 0 0 0 1 1 0\n",
      " 1 1 1 0 1 0 1 1 1 0 0 1 1 1 0 0 1 1 1 1 0 1 1 1 0 1 0 0 1 1 1 1 1 1 1 1 0\n",
      " 0 0 1 0 0 1 1 0 0 0 1 1 1 1 1 1 1 0 0 0 0 0 0 0 0 1 0 1 0 1 0 0 1 1 0 1 1\n",
      " 0 1 1 1 1 1 1 0 1 1 1 1 0 1 0 1 1 1 1 0 0 0 1 1 1 1 0 1 1 1 0 1 1 1 0 1 0\n",
      " 0 1 1 1 1 0 0 0 0 1 1 1 1 0 1 1 1 0 1 0 1 0 1 0 1 0 1 1 0 0 1 1 1 0 1 0 1\n",
      " 1 0 1 0 1 0 1 1 0 0 1 1 1 1 1 1 0 1 1 1 1 0 1 0 1 1 0 1 0 0 1 1 0 1 1 0 0\n",
      " 0 1 1 0 1 1 0 1 1 0 1 0 0 0 1 1 1 0 0 0 0 0 0 1 0 0 1 1 1 0 1 0 1 1 0 1 1\n",
      " 1 1 0 1 1 0 1 1 0 0 1 1 1 1 0 0 1 1 0 1 0 1 1 1 0 1 1 0 0 1 1 0 1 0 1 0 0\n",
      " 0 0 1 0 1 0 1 1 0 0 0 0 1 1 0 0 1 1 0 1 1 1 1 1 0 0 1 1 1 0 1 0 0 0 0 0 1\n",
      " 0 1 0 0 1 1 1 1 0 0 0 1 1 0 1 1 1 1 1 0 0 0 1 0 0 1 1 1 1 1 0 1 1 1 0 1 0\n",
      " 1 0 1 0 1 1 1 1 1 1 0 1 1 0 1 1 0 1 1 0 1 0 0 0 1 1 1 1 1 1 0 0 1 1 0 0 0\n",
      " 0 0 1 0 0 1 0 0 1 1 1 0 0 1 1 1 1 1 1 0 1 1 0 1 0 0 1 1 1 0 0 0 0 1 1 1 0\n",
      " 1 0 0 1 0 1 1 1 1 1 1 0 0 0 1]\n",
      "Accuracy =  0.4968944099378882\n"
     ]
    }
   ],
   "source": [
    "X_train, X_test, y_train, y_test =train_test_split(X, y, test_size=0.25) \n",
    "model = LogisticRegression()\n",
    "model.fit(X_train, y_train) \n",
    "y_predicted = model.predict(X_test) \n",
    "print(y_predicted)\n",
    "test_Acc = accuracy_score(y_test, y_predicted) \n",
    "print(\"Accuracy = \",test_Acc)"
   ]
  },
  {
   "cell_type": "code",
   "execution_count": null,
   "metadata": {},
   "outputs": [],
   "source": []
  },
  {
   "cell_type": "code",
   "execution_count": null,
   "metadata": {},
   "outputs": [],
   "source": []
  }
 ],
 "metadata": {
  "kernelspec": {
   "display_name": "Python 3",
   "language": "python",
   "name": "python3"
  },
  "language_info": {
   "codemirror_mode": {
    "name": "ipython",
    "version": 3
   },
   "file_extension": ".py",
   "mimetype": "text/x-python",
   "name": "python",
   "nbconvert_exporter": "python",
   "pygments_lexer": "ipython3",
   "version": "3.7.6"
  }
 },
 "nbformat": 4,
 "nbformat_minor": 4
}
