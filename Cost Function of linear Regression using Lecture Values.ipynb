{
 "cells": [
  {
   "cell_type": "code",
   "execution_count": 1,
   "metadata": {},
   "outputs": [],
   "source": [
    "import pandas as pd    # read data\n",
    "import numpy as np     # creating array\n",
    "import matplotlib.pyplot as plt # plotting graph"
   ]
  },
  {
   "cell_type": "code",
   "execution_count": 2,
   "metadata": {},
   "outputs": [],
   "source": [
    "X=np.array([3,5,7])\n",
    "Y=np.array([8,10,13])\n",
    "m, b = np.polyfit(X, Y, 1)# setting slope of a function mX+C"
   ]
  },
  {
   "cell_type": "code",
   "execution_count": 3,
   "metadata": {},
   "outputs": [
    {
     "name": "stdout",
     "output_type": "stream",
     "text": [
      "X =  [3 5 7] \n",
      " Y =  [ 8 10 13]\n"
     ]
    }
   ],
   "source": [
    "print(\"X = \",X,\"\\n\",\"Y = \",Y)"
   ]
  },
  {
   "cell_type": "code",
   "execution_count": 8,
   "metadata": {},
   "outputs": [
    {
     "name": "stdout",
     "output_type": "stream",
     "text": [
      "Hypothesis :  [ 6.5  9.5 12.5]\n"
     ]
    }
   ],
   "source": [
    "theta_1=2\n",
    "theta_2=1.5\n",
    "h=theta_1 + theta_2*X\n",
    "print(\"Hypothesis : \",h)"
   ]
  },
  {
   "cell_type": "code",
   "execution_count": 11,
   "metadata": {},
   "outputs": [
    {
     "name": "stdout",
     "output_type": "stream",
     "text": [
      "Cost Function =  0.4583333333333333\n"
     ]
    }
   ],
   "source": [
    "def cost(X,Y,theta_1,theta_2):\n",
    "    m=len(X)\n",
    "    return (1/(2*m))*np.sum((h-Y)**2)\n",
    "\n",
    "j=cost(X,Y,theta_1,theta_2)\n",
    "\n",
    "print(\"Cost Function = \",j)"
   ]
  },
  {
   "cell_type": "code",
   "execution_count": 12,
   "metadata": {},
   "outputs": [
    {
     "data": {
      "image/png": "[encoded data removed]",
      "text/plain": [
       "<Figure size 432x288 with 1 Axes>"
      ]
     },
     "metadata": {
      "needs_background": "light"
     },
     "output_type": "display_data"
    }
   ],
   "source": [
    "#plotting of hypothesis\n",
    "plt.scatter(X,Y,marker='o',color='green') \n",
    "#plt.plot(X, m*X + b) #slope line\n",
    "plt.plot(X,h) # line using hypothesis\n",
    "plt.xlabel('X')\n",
    "plt.ylabel('Y')\n",
    "plt.show() "
   ]
  },
  {
   "cell_type": "code",
   "execution_count": 13,
   "metadata": {},
   "outputs": [
    {
     "data": {
      "image/png": "[encoded data removed]",
      "text/plain": [
       "<Figure size 432x288 with 1 Axes>"
      ]
     },
     "metadata": {
      "needs_background": "light"
     },
     "output_type": "display_data"
    }
   ],
   "source": [
    "# cost function using j theta graph\n",
    "plt.scatter(theta_1,j,marker='*',color='purple') \n",
    "plt.plot(theta_1, m*theta_2 + b)\n",
    "plt.xlabel('Theta 1')\n",
    "plt.ylabel('J(0)')\n",
    "plt.show()"
   ]
  }
 ],
 "metadata": {
  "kernelspec": {
   "display_name": "Python 3",
   "language": "python",
   "name": "python3"
  },
  "language_info": {
   "codemirror_mode": {
    "name": "ipython",
    "version": 3
   },
   "file_extension": ".py",
   "mimetype": "text/x-python",
   "name": "python",
   "nbconvert_exporter": "python",
   "pygments_lexer": "ipython3",
   "version": "3.8.3"
  }
 },
 "nbformat": 4,
 "nbformat_minor": 2
}
