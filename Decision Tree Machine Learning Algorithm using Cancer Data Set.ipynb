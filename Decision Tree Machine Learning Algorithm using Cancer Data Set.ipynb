{
 "cells": [
  {
   "cell_type": "code",
   "execution_count": 1,
   "metadata": {},
   "outputs": [],
   "source": [
    "import pandas as pd\n",
    "import numpy as np\n",
    "from sklearn.model_selection import train_test_split\n",
    "from sklearn import tree\n",
    "from sklearn.metrics import accuracy_score, confusion_matrix\n",
    "from sklearn.metrics import classification_report\n",
    "from sklearn.metrics import multilabel_confusion_matrix\n",
    "\n",
    "import matplotlib.pyplot as plt\n",
    "from sklearn.tree import plot_tree"
   ]
  },
  {
   "cell_type": "code",
   "execution_count": 2,
   "metadata": {},
   "outputs": [
    {
     "name": "stdout",
     "output_type": "stream",
     "text": [
      "Index(['gene_1', 'gene_2', 'gene_3', 'gene_4', 'gene_6', 'gene_7', 'gene_10',\n",
      "       'gene_11', 'gene_12', 'gene_13', 'gene_14', 'gene_17', 'gene_18',\n",
      "       'gene_19', 'gene_20', 'gene_21', 'gene_22', 'gene_23', 'gene_24',\n",
      "       'gene_25', 'gene_26', 'gene_27', 'gene_28', 'gene_29', 'gene_30',\n",
      "       'gene_31', 'gene_32', 'gene_33', 'gene_34', 'gene_35', 'gene_36',\n",
      "       'gene_37', 'gene_38', 'gene_39', 'gene_40', 'gene_41', 'gene_42',\n",
      "       'gene_43', 'gene_44', 'gene_45', 'gene_46', 'gene_47', 'gene_48',\n",
      "       'gene_49'],\n",
      "      dtype='object')\n"
     ]
    }
   ],
   "source": [
    "Data=pd.read_csv(\"Cancer_dataset.csv\")\n",
    "Data.head()\n",
    "feature_names=Data.columns.drop('Class')\n",
    "target_names=[1,2,3,4,5]\n",
    "print(feature_names)"
   ]
  },
  {
   "cell_type": "code",
   "execution_count": 3,
   "metadata": {},
   "outputs": [],
   "source": [
    "InputTrain = Data.drop('Class',axis=\"columns\")\n",
    "InputTarget=Data['Class']"
   ]
  },
  {
   "cell_type": "code",
   "execution_count": 4,
   "metadata": {},
   "outputs": [],
   "source": [
    "X_train, X_test, y_train, y_test =train_test_split(InputTrain, InputTarget, test_size=0.3) "
   ]
  },
  {
   "cell_type": "code",
   "execution_count": 5,
   "metadata": {},
   "outputs": [
    {
     "data": {
      "text/plain": [
       "DecisionTreeClassifier(criterion='entropy')"
      ]
     },
     "execution_count": 5,
     "metadata": {},
     "output_type": "execute_result"
    }
   ],
   "source": [
    "model=tree.DecisionTreeClassifier(criterion='entropy')\n",
    "model.fit(X_train,y_train)"
   ]
  },
  {
   "cell_type": "code",
   "execution_count": 6,
   "metadata": {},
   "outputs": [
    {
     "name": "stdout",
     "output_type": "stream",
     "text": [
      "Accuracy of Decision Tree : 75.21%\n",
      "Confusion Matrix  \n",
      " [[20  0  0  2  1]\n",
      " [ 2 13  1  2  3]\n",
      " [ 0  0 16  1  1]\n",
      " [ 0  4  1 22  3]\n",
      " [ 0  2  0  6 17]]\n",
      "Recall  \n",
      " [0.86956522 0.61904762 0.88888889 0.73333333 0.68      ]\n",
      "Precisin  \n",
      " [0.90909091 0.68421053 0.88888889 0.66666667 0.68      ]\n",
      "Mean Recall  \n",
      " 0.7581670117322291\n",
      "Mean Precisin  \n",
      " 0.7657713981924508\n",
      "Classification Report \n",
      "               precision    recall  f1-score   support\n",
      "\n",
      "           1       0.91      0.87      0.89        23\n",
      "           2       0.68      0.62      0.65        21\n",
      "           3       0.89      0.89      0.89        18\n",
      "           4       0.67      0.73      0.70        30\n",
      "           5       0.68      0.68      0.68        25\n",
      "\n",
      "    accuracy                           0.75       117\n",
      "   macro avg       0.77      0.76      0.76       117\n",
      "weighted avg       0.75      0.75      0.75       117\n",
      "\n"
     ]
    }
   ],
   "source": [
    "DT_predict=model.predict(X_test)\n",
    "acc_DT=accuracy_score(y_test,DT_predict)\n",
    "acc_DT=round(acc_DT*100,2)\n",
    "print(f'Accuracy of Decision Tree : {acc_DT}%')\n",
    "\n",
    "cm=confusion_matrix(y_test,DT_predict)\n",
    "print(\"Confusion Matrix  \\n\",cm)\n",
    "\n",
    "recall = np.diag(cm) / np.sum(cm, axis = 1)\n",
    "precision = np.diag(cm) / np.sum(cm, axis = 0)\n",
    "print(\"Recall  \\n\",recall)\n",
    "print(\"Precisin  \\n\",precision)\n",
    "\n",
    "print(\"Mean Recall  \\n\",np.mean(recall))\n",
    "print(\"Mean Precisin  \\n\",np.mean(precision))\n",
    "\n",
    "print(\"Classification Report \\n\",classification_report(y_test,DT_predict))"
   ]
  },
  {
   "cell_type": "code",
   "execution_count": null,
   "metadata": {},
   "outputs": [],
   "source": []
  }
 ],
 "metadata": {
  "kernelspec": {
   "display_name": "Python 3",
   "language": "python",
   "name": "python3"
  },
  "language_info": {
   "codemirror_mode": {
    "name": "ipython",
    "version": 3
   },
   "file_extension": ".py",
   "mimetype": "text/x-python",
   "name": "python",
   "nbconvert_exporter": "python",
   "pygments_lexer": "ipython3",
   "version": "3.8.3"
  }
 },
 "nbformat": 4,
 "nbformat_minor": 4
}
