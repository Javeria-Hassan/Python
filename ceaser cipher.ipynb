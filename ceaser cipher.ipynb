{
 "cells": [
  {
   "cell_type": "code",
   "execution_count": 2,
   "metadata": {},
   "outputs": [],
   "source": [
    "#python code to encrypt and decrypt\n",
    "from tkinter import *\n",
    "\n",
    "cipher = []\n",
    "root = Tk()\n",
    "entry = Entry(root)\n",
    "\n",
    "def outputter(ciphertext):\n",
    "\tentry.insert(END, ciphertext)\n",
    "\n",
    "def encrypt():\n",
    "\tentry.delete(0, END)\n",
    "\tplaintext = variable.get()\n",
    "\tkey = variable2.get()\n",
    "\tplaintext = list(plaintext)\n",
    "\talphabet = list('abcdefghijklmnopqrstuvwxyz')\n",
    "\tcipher = []\n",
    "\tfor c in plaintext:\n",
    "\t\tif c in alphabet:\n",
    "\t\t\tnew_pos = int(alphabet.index(c) + key)\n",
    "\t\t\tif new_pos > 25:\n",
    "\t\t\t\tnew_pos = new_pos - 26\t\t\t\n",
    "\t\t\tc_new = list('abcdefghijklmnopqrstuvwxyz').pop(new_pos)\n",
    "\t\t\tcipher.append(c_new)\n",
    "\t\t\tciphertext = ''.join(cipher)\n",
    "\toutputter(ciphertext)\n",
    "\n",
    "def decrypt():\n",
    "\tentry.delete(0, END)\n",
    "\tplaintext = variable.get()\n",
    "\toutputter(plaintext)\n",
    "\n",
    "\n",
    "label = Label(root, text=\"Encyption algorithm\")\n",
    "label.pack()\n",
    "\n",
    "variable = StringVar()\n",
    "variable2 = IntVar()\n",
    "plaintext = Entry(root, textvariable=variable)\n",
    "key = Entry(root, textvariable=variable2)\n",
    " \n",
    "label1 = Label(root, text=\"Enter Text (lowercase text): \")\n",
    "label1.pack()\n",
    "plaintext.pack(expand=\"30\")\n",
    "\n",
    "label2 = Label(root, text=\"Key Digit (0-37): \")\n",
    "label2.pack()\n",
    "key.pack(expand=30)\n",
    "\n",
    "label3 = Label(root, text=\"Output: \")\n",
    "label3.pack()\n",
    "entry.pack(expand=30)\n",
    "\n",
    "encryptbutton = Button(text=\"Encrypt\", command=encrypt)\n",
    "decryptbutton = Button(text=\"Decrypt\", command=decrypt)\n",
    "encryptbutton.pack()\n",
    "decryptbutton.pack(expand=\"100\")\n",
    "root.mainloop()\t\t\n",
    "\t\n"
   ]
  },
  {
   "cell_type": "code",
   "execution_count": null,
   "metadata": {},
   "outputs": [],
   "source": []
  }
 ],
 "metadata": {
  "kernelspec": {
   "display_name": "Python 3",
   "language": "python",
   "name": "python3"
  },
  "language_info": {
   "codemirror_mode": {
    "name": "ipython",
    "version": 3
   },
   "file_extension": ".py",
   "mimetype": "text/x-python",
   "name": "python",
   "nbconvert_exporter": "python",
   "pygments_lexer": "ipython3",
   "version": "3.8.3"
  }
 },
 "nbformat": 4,
 "nbformat_minor": 4
}
